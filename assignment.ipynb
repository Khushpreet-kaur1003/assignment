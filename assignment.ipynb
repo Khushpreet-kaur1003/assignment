{
  "nbformat": 4,
  "nbformat_minor": 0,
  "metadata": {
    "colab": {
      "provenance": [],
      "authorship_tag": "ABX9TyOkL2Nf5RgvJJkTB/GPD0hO",
      "include_colab_link": true
    },
    "kernelspec": {
      "name": "python3",
      "display_name": "Python 3"
    },
    "language_info": {
      "name": "python"
    }
  },
  "cells": [
    {
      "cell_type": "markdown",
      "metadata": {
        "id": "view-in-github",
        "colab_type": "text"
      },
      "source": [
        "<a href=\"https://colab.research.google.com/github/Khushpreet-kaur1003/assignment/blob/main/assignment.ipynb\" target=\"_parent\"><img src=\"https://colab.research.google.com/assets/colab-badge.svg\" alt=\"Open In Colab\"/></a>"
      ]
    },
    {
      "cell_type": "code",
      "execution_count": null,
      "metadata": {
        "colab": {
          "base_uri": "https://localhost:8080/"
        },
        "id": "DncOJxazEOnS",
        "outputId": "32267feb-f4ed-4f2f-e39a-24143e067420"
      },
      "outputs": [
        {
          "output_type": "stream",
          "name": "stdout",
          "text": [
            "[12, 11, 14, 13, 50]\n",
            "(I) list after adding 50,60 to list =  [12, 11, 14, 13, 50, 60]\n",
            "(II)list after deleting 11 = [12, 14, 13, 50, 60]\n",
            "    list after deleting 11 = [12, 14, 50, 60]\n",
            "(III) sorted list in ascending order =  [12, 14, 50, 60]\n",
            "(IV) sorted list in ascending order =  [60, 50, 14, 12]\n",
            "(V) 13 is Not Present\n",
            "(VI) number of elements in list =  4\n",
            "(VII)sum of all numbers =  136\n",
            "(VIII) sum of all odd elements in list = 0\n",
            "(IX) sum of all even elements in list = 136\n",
            "(X) sum of all prime elements in list = 0\n",
            "(XI) after clearing = []\n",
            "(XII) list deleted\n"
          ]
        }
      ],
      "source": [
        "# Q1\n",
        "l=[12,11,14,13]\n",
        "#(I)WAP to add elements 50,60 in list\n",
        "l.append(50)\n",
        "print (l)\n",
        "l.append(60)\n",
        "print (\"(I) list after adding 50,60 to list = \",l)\n",
        "\n",
        "#(II)WAP to delete 11,13 from the list\n",
        "del l[1]\n",
        "print(\"(II)list after deleting 11 =\",l)\n",
        "del l[2]\n",
        "print(\"    list after deleting 11 =\",l)\n",
        "\n",
        "#(III)WAP to sort list in ascending order\n",
        "l.sort()\n",
        "print(\"(III) sorted list in ascending order = \",l)\n",
        "\n",
        "#(IV)WAP to print list in descending order\n",
        "l.sort(reverse=True)\n",
        "print(\"(IV) sorted list in ascending order = \",l)\n",
        "\n",
        "#(V)WAP search 13 in list\n",
        "if (13 in l) == True:\n",
        "    print (\"(V) 13 is Present\")\n",
        "else:\n",
        "    print (\"(V) 13 is Not Present\")\n",
        "\n",
        "#(VI)WAP to print number of elements in list\n",
        "print(\"(VI) number of elements in list = \",len(l))\n",
        "\n",
        "#(VII)WAP to add all numbers\n",
        "sum=0\n",
        "for i in l:\n",
        "  sum=sum+i\n",
        "print(\"(VII)sum of all numbers = \",sum)\n",
        "\n",
        "#(VIII)WAP to add all odd numbers in list\n",
        "odd_sum=0\n",
        "for i in l:\n",
        "  if  i % 2 != 0:\n",
        "    odd_sum=odd_sum+i\n",
        "print(\"(VIII) sum of all odd elements in list =\",odd_sum)\n",
        "\n",
        "#(IX)WAP to add all even numbers in list\n",
        "even_sum=0\n",
        "for i in l:\n",
        "  if  i % 2 == 0:\n",
        "    even_sum=even_sum+i\n",
        "print(\"(IX) sum of all even elements in list =\",even_sum)\n",
        "\n",
        "#(X)WAP to add all prime numbers in list\n",
        "prime_sum=0\n",
        "for i in l:\n",
        "  flag=0\n",
        "  for j in range( 2 , i//2+1):\n",
        "    if i%j==0:\n",
        "      flag=flag+1\n",
        "    if flag==0:\n",
        "      prime_sum=prime_sum+i\n",
        "print(\"(X) sum of all prime elements in list =\",prime_sum)\n",
        "\n",
        "#(XI)WAP to clear the list\n",
        "l.clear()\n",
        "print(\"(XI) after clearing =\",l)\n",
        "\n",
        "#(XII)WAP to delete the list\n",
        "del l\n",
        "print(\"(XII) list deleted\")"
      ]
    },
    {
      "cell_type": "code",
      "source": [
        "#Q2\n",
        "d={1:5.6,2:7.8,3:6.6,4:8.7,5:7.7}\n",
        "print(d)\n",
        "#(I)WAP to add a new entry in d ; key=8,value=8.8\n",
        "d[8]=8.8\n",
        "print(\"(I) after addition = \",d)\n",
        "\n",
        "#(II)WAP to delete key 2\n",
        "del d[2]\n",
        "print(\"(II) after deletion = \",d)\n",
        "\n",
        "#(III)WAP to check wether key 6 is present in d\n",
        "print(\"(III) is key 6 present = \",6 in d)\n",
        "\n",
        "#(IV)WAP to count no. of elements present in d\n",
        "print(\"(IV) no. of elements in d = \",len(d))\n",
        "\n",
        "#(V)WAP to add all values in d\n",
        "print(\"(V) sum of all values = \", sum(d.values()))\n",
        "\n",
        "#(VI)WAP to update value of 3 to 7.1\n",
        "d[3]=7.1\n",
        "print(\"(VI) after updation\",d)\n",
        "\n",
        "#(VII)clear dictionary\n",
        "d.clear()\n",
        "print(\"(VII)after clearing = \",d)"
      ],
      "metadata": {
        "colab": {
          "base_uri": "https://localhost:8080/"
        },
        "id": "X7lW2eTSNt5b",
        "outputId": "2d688e71-6e15-402d-e6b6-673d0fb44f9d"
      },
      "execution_count": null,
      "outputs": [
        {
          "output_type": "stream",
          "name": "stdout",
          "text": [
            "{1: 5.6, 2: 7.8, 3: 6.6, 4: 8.7, 5: 7.7}\n",
            "(I) after addition =  {1: 5.6, 2: 7.8, 3: 6.6, 4: 8.7, 5: 7.7, 8: 8.8}\n",
            "(II) after deletion =  {1: 5.6, 3: 6.6, 4: 8.7, 5: 7.7, 8: 8.8}\n",
            "(III) is key 6 present =  False\n",
            "(IV) no. of elements in d =  5\n",
            "(V) sum of all values =  37.4\n",
            "(VI) after updation {1: 5.6, 3: 7.1, 4: 8.7, 5: 7.7, 8: 8.8}\n",
            "(VII)after clearing =  {}\n"
          ]
        }
      ]
    },
    {
      "cell_type": "code",
      "source": [
        "#Q3\n",
        "s1=set([10,20,30,40,50,60])\n",
        "s2=set([40,50,60,70,80,90])\n",
        "print(s1)\n",
        "print(s2)\n",
        "#(I)WAP to add 55 and 66 in s1\n",
        "s1.add(55)\n",
        "s1.add(66)\n",
        "print(\"(I) after adding 55 and 66 s1 = \",s1)\n",
        "\n",
        "#(II)WAP to remeove 10,30 from set s1\n",
        "s1.remove(10)\n",
        "s1.remove(30)\n",
        "print(\"(II) after removing 10 and 30 s1 = \",s1)\n",
        "\n",
        "#(III)WAP to check wether 40 is present in s1\n",
        "print(\"(III) 40 is present in s1 = \",40 in s1)\n",
        "\n",
        "#(IV)WAP to find union of s1 and s2\n",
        "print(\"(IV) union of s1 and s2=\",s1.union(s2))\n",
        "\n",
        "#(V)WAP to find intersection of s1 and s2\n",
        "print(\"(V) intersection of s1 and s2=\",s1.intersection(s2))\n",
        "\n",
        "#(VI)WAP to find  s1-s2\n",
        "print(\"(VI) difference of s1 and s2=\",s1.difference(s2))\n",
        "\n",
        "\n",
        "\n",
        "\n",
        "\n"
      ],
      "metadata": {
        "colab": {
          "base_uri": "https://localhost:8080/"
        },
        "id": "OeNJV4IpUuuU",
        "outputId": "f4acef48-5726-4579-a7d5-98f00e01dc9b"
      },
      "execution_count": null,
      "outputs": [
        {
          "output_type": "stream",
          "name": "stdout",
          "text": [
            "{40, 10, 50, 20, 60, 30}\n",
            "{70, 40, 80, 50, 90, 60}\n",
            "(I) after adding 55 and 66 s1 =  {66, 40, 10, 50, 20, 55, 60, 30}\n",
            "(II) after removing 10 and 30 s1 =  {66, 40, 50, 20, 55, 60}\n",
            "(III) 40 is present in s1 =  True\n",
            "(IV) union of s1 and s2= {66, 70, 40, 80, 50, 20, 55, 90, 60}\n",
            "(V) intersection of s1 and s2= {40, 50, 60}\n",
            "(VI) difference of s1 and s2= {66, 20, 55}\n"
          ]
        }
      ]
    },
    {
      "cell_type": "code",
      "source": [
        "#Q4\n",
        "# (I)WAP to print 100 random strings of length between 6 and 8\n",
        "print (\"(I) 100 random strings of length between 6 and 8 =\")\n",
        "import string as s\n",
        "import random as r\n",
        "for i in range(1,101):\n",
        "  code=\"\".join(r.sample(s.ascii_letters,r.randint(6,8)))\n",
        "  print(code)\n",
        "\n",
        "\n",
        "#(II)WAP to print all  prime numbers between 600 and 800\n",
        "print( \"(II) all  prime numbers between 600 and 800:\")\n",
        "for i in range(600,800):\n",
        "   flag=0\n",
        "   for j in range( 2 , i//2+1):\n",
        "     if i%j==0:\n",
        "       flag=1\n",
        "       break\n",
        "\n",
        "   if flag==0:\n",
        "    print(i)\n",
        "\n",
        "\n",
        "#(III)WAP to print all numbers betwee 100 and 1000 divisible by 7 and 9\n",
        "print (\"(III) all numbers betwee 100 and 1000 divisible by 7 and 9\")\n",
        "for i in range(100,1001):\n",
        "  if(i%7==0):\n",
        "   if(i%9==0):\n",
        "    print(i)\n",
        "\n"
      ],
      "metadata": {
        "id": "BBeFihI2Xf6E",
        "colab": {
          "base_uri": "https://localhost:8080/"
        },
        "outputId": "9aa88e1c-8195-45d2-ff5a-32dc13bd19b5"
      },
      "execution_count": null,
      "outputs": [
        {
          "output_type": "stream",
          "name": "stdout",
          "text": [
            "(I) 100 random strings of length between 6 and 8 =\n",
            "ALdpQObE\n",
            "ltZNUFM\n",
            "TcZAzQv\n",
            "FgrGXD\n",
            "xsvbjzot\n",
            "efsVNIbT\n",
            "qFYAOT\n",
            "KpRQHjGb\n",
            "rpvfcA\n",
            "JejGKwZ\n",
            "XLlEvDo\n",
            "LgDHRIKp\n",
            "eVujcQhG\n",
            "Czhxjb\n",
            "ZDMWjrO\n",
            "ITHYNpc\n",
            "cbhtny\n",
            "dofeiF\n",
            "GJxqEezH\n",
            "DHjWfMv\n",
            "eGVjDJ\n",
            "KbqUPInk\n",
            "OhwsazJ\n",
            "pbMfwD\n",
            "tugDLywm\n",
            "tbqSgxn\n",
            "idhjnH\n",
            "ANeZLv\n",
            "oxGhMpk\n",
            "IcAYJaRo\n",
            "ZuAUosj\n",
            "uVaIBXeP\n",
            "FpBJacW\n",
            "YgjZMi\n",
            "NTkbiKOf\n",
            "amoiDg\n",
            "KmoxnYO\n",
            "Ijbyoh\n",
            "GHWtmQoe\n",
            "wBsZlIk\n",
            "aKXGTlS\n",
            "BcHXjlM\n",
            "UxRuaQ\n",
            "uKkVghd\n",
            "MHNqIhd\n",
            "jLIFAT\n",
            "ISJxia\n",
            "taskxZW\n",
            "eiLoAzj\n",
            "NEZexsMD\n",
            "vsHjKZ\n",
            "YOsmkQx\n",
            "THMpVhR\n",
            "xZflWiP\n",
            "YQCSKM\n",
            "csWCbml\n",
            "PjykmM\n",
            "FLmbCc\n",
            "RguPdy\n",
            "edTDlXkM\n",
            "KNCobylH\n",
            "TMZOPg\n",
            "sYMLuz\n",
            "vCaZQPGp\n",
            "OhPDWeg\n",
            "MZaYvz\n",
            "PCGYiTXN\n",
            "OXFwgjIT\n",
            "hJOQDYT\n",
            "CLlnjT\n",
            "gAnJyEXe\n",
            "BGEyiYj\n",
            "FlsVmZ\n",
            "SrBKNF\n",
            "kRVJqN\n",
            "uClBzOL\n",
            "xrTLuO\n",
            "nTaqkA\n",
            "AlhXWOe\n",
            "DJAUdSEy\n",
            "mCaRqF\n",
            "KTZtpgu\n",
            "MjJLxdDR\n",
            "NiHtwz\n",
            "qyuZbTP\n",
            "UeALtkW\n",
            "ortDpG\n",
            "quZibKy\n",
            "lEYWSA\n",
            "xktEjT\n",
            "xdzZcqOF\n",
            "ntmOuzK\n",
            "WCYHSEyo\n",
            "YDOrCEU\n",
            "egubmnB\n",
            "zZFcMOwS\n",
            "tgUZNYjS\n",
            "UDMxrRs\n",
            "flLSXY\n",
            "NAhEZfHS\n",
            "(II) all  prime numbers between 600 and 800:\n",
            "601\n",
            "607\n",
            "613\n",
            "617\n",
            "619\n",
            "631\n",
            "641\n",
            "643\n",
            "647\n",
            "653\n",
            "659\n",
            "661\n",
            "673\n",
            "677\n",
            "683\n",
            "691\n",
            "701\n",
            "709\n",
            "719\n",
            "727\n",
            "733\n",
            "739\n",
            "743\n",
            "751\n",
            "757\n",
            "761\n",
            "769\n",
            "773\n",
            "787\n",
            "797\n",
            "(III) all numbers betwee 100 and 1000 divisible by 7 and 9\n",
            "126\n",
            "189\n",
            "252\n",
            "315\n",
            "378\n",
            "441\n",
            "504\n",
            "567\n",
            "630\n",
            "693\n",
            "756\n",
            "819\n",
            "882\n",
            "945\n"
          ]
        }
      ]
    },
    {
      "cell_type": "code",
      "source": [
        "#Q5\n",
        "import random as r\n",
        "l1=r.sample(range(10,30),10)\n",
        "l2=r.sample(range(10,30),10)\n",
        "print(l1)\n",
        "print(l2)\n",
        "\n",
        "#(I)find common element from both\n",
        "common=[value for value in l1 if value in l2]\n",
        "print(\"common elements in both=\",common)\n",
        "\n",
        "#(II)find unique element from both\n",
        "unique=[value for value in l1+l2 if(l1+l2)]\n",
        "print(\"unique elements are\",unique)\n",
        "\n",
        "#(III)find min element from both\n",
        "minimum=min(min(l1),min(l2))\n",
        "print(\"minimum element=\",minimum)\n",
        "\n",
        "#(IV)find max element from both\n",
        "max_val = max(max(l1), max(l2))\n",
        "print(max_val)\n",
        "\n",
        "#(V)find sum of both list\n",
        "sum=0\n",
        "sum1=0\n",
        "sum2=0\n",
        "for i in l1:\n",
        "  sum1=sum1+i\n",
        "for i in l2:\n",
        "  sum2=sum2+i\n",
        "sum=sum1+sum2\n",
        "print(sum)"
      ],
      "metadata": {
        "colab": {
          "base_uri": "https://localhost:8080/",
          "height": 297
        },
        "id": "RN-SzlAvekJM",
        "outputId": "e6cc60f0-ffab-49ec-9b13-4c2960ba5b48"
      },
      "execution_count": null,
      "outputs": [
        {
          "output_type": "stream",
          "name": "stdout",
          "text": [
            "[16, 18, 22, 19, 26, 23, 14, 11, 25, 17]\n",
            "[21, 25, 11, 15, 29, 18, 13, 14, 12, 16]\n",
            "common elements in both= [16, 18, 14, 11, 25]\n",
            "unique elements are [16, 18, 22, 19, 26, 23, 14, 11, 25, 17, 21, 25, 11, 15, 29, 18, 13, 14, 12, 16]\n",
            "minimum element= 11\n"
          ]
        },
        {
          "output_type": "error",
          "ename": "TypeError",
          "evalue": "'int' object is not callable",
          "traceback": [
            "\u001b[0;31m---------------------------------------------------------------------------\u001b[0m",
            "\u001b[0;31mTypeError\u001b[0m                                 Traceback (most recent call last)",
            "\u001b[0;32m<ipython-input-21-4ba2700db7fe>\u001b[0m in \u001b[0;36m<cell line: 21>\u001b[0;34m()\u001b[0m\n\u001b[1;32m     19\u001b[0m \u001b[0;34m\u001b[0m\u001b[0m\n\u001b[1;32m     20\u001b[0m \u001b[0;31m#(IV)find max element from both\u001b[0m\u001b[0;34m\u001b[0m\u001b[0;34m\u001b[0m\u001b[0m\n\u001b[0;32m---> 21\u001b[0;31m \u001b[0mmax_val\u001b[0m \u001b[0;34m=\u001b[0m \u001b[0mmax\u001b[0m\u001b[0;34m(\u001b[0m\u001b[0mmax\u001b[0m\u001b[0;34m(\u001b[0m\u001b[0ml1\u001b[0m\u001b[0;34m)\u001b[0m\u001b[0;34m,\u001b[0m \u001b[0mmax\u001b[0m\u001b[0;34m(\u001b[0m\u001b[0ml2\u001b[0m\u001b[0;34m)\u001b[0m\u001b[0;34m)\u001b[0m\u001b[0;34m\u001b[0m\u001b[0;34m\u001b[0m\u001b[0m\n\u001b[0m\u001b[1;32m     22\u001b[0m \u001b[0mprint\u001b[0m\u001b[0;34m(\u001b[0m\u001b[0mmax_val\u001b[0m\u001b[0;34m)\u001b[0m\u001b[0;34m\u001b[0m\u001b[0;34m\u001b[0m\u001b[0m\n\u001b[1;32m     23\u001b[0m \u001b[0;34m\u001b[0m\u001b[0m\n",
            "\u001b[0;31mTypeError\u001b[0m: 'int' object is not callable"
          ]
        }
      ]
    },
    {
      "cell_type": "code",
      "source": [
        "#Q6\n",
        "import random as r\n",
        "l=r.sample(range(100,900),100)\n",
        "print(l)\n",
        "\n",
        "#(I)WAPto print all odd numbers\n",
        "l1=[]\n",
        "for i in l:\n",
        "  if i % 2 != 0:\n",
        "    l1.append(i)\n",
        "print(l1)\n",
        "\n",
        "#(II)WAPto print all even numbers\n",
        "l2=[]\n",
        "for i in l:\n",
        "  if i % 2 == 0:\n",
        "    l2.append(i)\n",
        "print(l2)\n",
        "\n",
        "#(II)WAPto print all prime numbers\n",
        "l3=[]\n",
        "for i in l:\n",
        "  flag=0\n",
        "  for j in range( 2 , i//2+1):\n",
        "     if i%j==0:\n",
        "       flag=1\n",
        "       break\n",
        "  if flag==0:\n",
        "    l3.append(i)\n",
        "\n",
        "print (\"prime numbers in l = \",l3)\n"
      ],
      "metadata": {
        "colab": {
          "base_uri": "https://localhost:8080/"
        },
        "id": "iaaqsw9Zj0u-",
        "outputId": "1cb6edbe-29c1-46e1-da47-158e3ff9bb1d"
      },
      "execution_count": null,
      "outputs": [
        {
          "output_type": "stream",
          "name": "stdout",
          "text": [
            "[655, 177, 544, 777, 523, 148, 263, 394, 385, 145, 272, 625, 815, 452, 172, 672, 356, 113, 515, 629, 848, 281, 229, 494, 133, 677, 433, 328, 533, 363, 146, 307, 502, 232, 874, 184, 256, 358, 341, 362, 203, 378, 469, 414, 345, 352, 577, 737, 306, 141, 497, 553, 477, 174, 321, 592, 185, 441, 485, 179, 609, 587, 102, 631, 299, 723, 786, 371, 164, 897, 218, 275, 539, 712, 746, 430, 158, 459, 570, 279, 243, 699, 589, 192, 795, 820, 858, 633, 461, 894, 395, 663, 473, 464, 649, 536, 150, 246, 516, 206]\n",
            "[655, 177, 777, 523, 263, 385, 145, 625, 815, 113, 515, 629, 281, 229, 133, 677, 433, 533, 363, 307, 341, 203, 469, 345, 577, 737, 141, 497, 553, 477, 321, 185, 441, 485, 179, 609, 587, 631, 299, 723, 371, 897, 275, 539, 459, 279, 243, 699, 589, 795, 633, 461, 395, 663, 473, 649]\n",
            "[544, 148, 394, 272, 452, 172, 672, 356, 848, 494, 328, 146, 502, 232, 874, 184, 256, 358, 362, 378, 414, 352, 306, 174, 592, 102, 786, 164, 218, 712, 746, 430, 158, 570, 192, 820, 858, 894, 464, 536, 150, 246, 516, 206]\n",
            "prime numbers in l =  [523, 263, 113, 281, 229, 677, 433, 307, 577, 179, 587, 631, 461]\n"
          ]
        }
      ]
    },
    {
      "cell_type": "code",
      "source": [
        "#Q7D is a dictionary defined as D={1:\"One\",2:\"Two\",3:\"Three\",4:\"Four\", 5:\"Five\"}.\n",
        "\n",
        "import pandas as pd\n",
        "D={1:\"One\",2:\"Two\",3:\"Three\",4:\"Four\", 5:\"Five\"}\n",
        "df=pd.DataFrame.from_dict(D,orient=\"index\")\n",
        "print(df)"
      ],
      "metadata": {
        "id": "ERPBBd8KyXl-",
        "colab": {
          "base_uri": "https://localhost:8080/"
        },
        "outputId": "d2ecca2e-7ba0-476a-ee67-57930d7afb64"
      },
      "execution_count": null,
      "outputs": [
        {
          "output_type": "stream",
          "name": "stdout",
          "text": [
            "       0\n",
            "1    One\n",
            "2    Two\n",
            "3  Three\n",
            "4   Four\n",
            "5   Five\n"
          ]
        }
      ]
    },
    {
      "cell_type": "code",
      "source": [
        "#Q8. L is a list defined as L={\"One\",\"Two\",\"Three\",\"Four\",\"Five\"}.\n",
        " #WAP to count the length of reach element from a list\n",
        "L=[\"One\",\"Two\",\"Three\",\"Four\",\"Five\"]\n",
        "for i in L:\n",
        "  print(i,len(i))"
      ],
      "metadata": {
        "colab": {
          "base_uri": "https://localhost:8080/"
        },
        "id": "spwRggcfzGrD",
        "outputId": "1a689617-ad05-47cf-f5af-981b03823bcd"
      },
      "execution_count": null,
      "outputs": [
        {
          "output_type": "stream",
          "name": "stdout",
          "text": [
            "One 3\n",
            "Two 3\n",
            "Three 5\n",
            "Four 4\n",
            "Five 4\n"
          ]
        }
      ]
    },
    {
      "cell_type": "code",
      "source": [
        "#Q9 Write to the file 100 random strings whose length between 10 and 15.\n",
        "import string as s\n",
        "import random as r\n",
        "for i in range(1,101):\n",
        "  num=r.randint(10,15)\n",
        "  passwd=\"\".join(r.sample(s.ascii_letters,num))\n",
        "\n",
        "  print (passwd)"
      ],
      "metadata": {
        "colab": {
          "base_uri": "https://localhost:8080/"
        },
        "id": "LZFLIQt3zhiu",
        "outputId": "944d704c-6fed-4e94-8632-6a71530cfe58"
      },
      "execution_count": null,
      "outputs": [
        {
          "output_type": "stream",
          "name": "stdout",
          "text": [
            "Selected string =  itRPHqGvcQpruI\n",
            "Selected string =  WJOIjifTGkuvm\n",
            "Selected string =  ZPgTNcmWktoIS\n",
            "Selected string =  oguLThltIkNp\n",
            "Selected string =  NhosxfrOmiXkbF\n",
            "Selected string =  SHtyDIJfUWk\n",
            "Selected string =  uJqOPtEZTRWFwI\n",
            "Selected string =  rgijAcUBuId\n",
            "Selected string =  IwmgAraQezt\n",
            "Selected string =  jbgtUAYcTeWx\n",
            "Selected string =  WHvoYTlyJUOXc\n",
            "Selected string =  YHtzRloWrUvASD\n",
            "Selected string =  ZgkOEQhJUx\n",
            "Selected string =  tbNuLnghvRZcd\n",
            "Selected string =  LUbIuPmplenDRS\n",
            "Selected string =  JDCaHVYpGsd\n",
            "Selected string =  TCYNzuBvPFfJHm\n",
            "Selected string =  OVJlorBmfjqaNwF\n",
            "Selected string =  zmeIKJDyjcqAT\n",
            "Selected string =  vMcPrUeZsjp\n",
            "Selected string =  SRZILepiQgKxj\n",
            "Selected string =  Nabyxpkfqd\n",
            "Selected string =  NxpGAqvZlWRK\n",
            "Selected string =  oYTzZqtMcIjJasr\n",
            "Selected string =  RNEhHborVAIU\n",
            "Selected string =  XzNTHuaBmnwRfgr\n",
            "Selected string =  YZycwrtaLlbERiH\n",
            "Selected string =  alwueZQSCk\n",
            "Selected string =  ulBtxryWMTGL\n",
            "Selected string =  gwZrNomUIqf\n",
            "Selected string =  YfgoEZSRjsG\n",
            "Selected string =  tGYdCPTmrHNe\n",
            "Selected string =  zgyWEvXaGpCuis\n",
            "Selected string =  hMHtQvEGmsCNRxu\n",
            "Selected string =  uqFaXPbYMWr\n",
            "Selected string =  WXNqtZuHCApTI\n",
            "Selected string =  YtiSugwfdnmqj\n",
            "Selected string =  ulpNrkxwcaHFg\n",
            "Selected string =  qTekpNBlAMQvOsX\n",
            "Selected string =  akodYbOtNSqG\n",
            "Selected string =  EOQCcJTfWDzv\n",
            "Selected string =  UvNAIlcwjgO\n",
            "Selected string =  ovDbFGmwpyNQh\n",
            "Selected string =  JyekntNDSOY\n",
            "Selected string =  ixONcvGAzrpk\n",
            "Selected string =  XewlQpWLIPHb\n",
            "Selected string =  iVbUszYEDkINCXx\n",
            "Selected string =  WIGbLYsoAtl\n",
            "Selected string =  gqtOUiNaWhL\n",
            "Selected string =  xmIeyNnUuh\n",
            "Selected string =  NCGmJrZPHx\n",
            "Selected string =  SegwONZBGfW\n",
            "Selected string =  zbKsTjmnQyHUiuk\n",
            "Selected string =  qgaPkwFjHzyesS\n",
            "Selected string =  HovzbZOKsmPRY\n",
            "Selected string =  IRgypuvljDH\n",
            "Selected string =  ocgZpAFWVGUuYm\n",
            "Selected string =  vZlTikhNuX\n",
            "Selected string =  YNdbStALCKqZ\n",
            "Selected string =  WjIUdpNATrw\n",
            "Selected string =  lZCzvqWVRL\n",
            "Selected string =  XSNxcJqiwEUkeG\n",
            "Selected string =  aucYsTqhWSvwd\n",
            "Selected string =  YadIjuSUsAmxe\n",
            "Selected string =  BPaRxEDQbpcT\n",
            "Selected string =  XgrEpcUIaCuT\n",
            "Selected string =  bVkzQXPKwvN\n",
            "Selected string =  mbpcFJqXojYUE\n",
            "Selected string =  OguLEqXsnZlVJd\n",
            "Selected string =  ZDsqFunVfX\n",
            "Selected string =  ulcVRTfmISyJhw\n",
            "Selected string =  vwGVQliDqCILnYy\n",
            "Selected string =  QcHjlFqInT\n",
            "Selected string =  ICFnKZBJyUwRxz\n",
            "Selected string =  NInaJmwxeGRfYur\n",
            "Selected string =  EsgbaBnuSTpK\n",
            "Selected string =  VkScnZwqTA\n",
            "Selected string =  kliMOFCZABJDQHy\n",
            "Selected string =  FubhfMoNmDlPCKt\n",
            "Selected string =  zcmbQHElLhqVfN\n",
            "Selected string =  nMiVvgUjIu\n",
            "Selected string =  tfYWSZcJQgIDAF\n",
            "Selected string =  UYKzgwPaIhDF\n",
            "Selected string =  CLXdroTxHws\n",
            "Selected string =  EtzfjIwsvS\n",
            "Selected string =  bDndWYBNcKJ\n",
            "Selected string =  zIFbCQUqTDngMs\n",
            "Selected string =  AyweWpNXRriK\n",
            "Selected string =  qACNOnUfzbsF\n",
            "Selected string =  NypRicexTPAHI\n",
            "Selected string =  yfrMwFdVIl\n",
            "Selected string =  SLzJfQchmV\n",
            "Selected string =  XUcDuABolw\n",
            "Selected string =  YDmvSFNgRQVeW\n",
            "Selected string =  UNjIgVFRCwX\n",
            "Selected string =  SIJcGTnqQvit\n",
            "Selected string =  YTMFHGROUeNyW\n",
            "Selected string =  DdasYQJMENOGPul\n",
            "Selected string =  xbkMhCQFEJwr\n",
            "Selected string =  wdxrqcjKANaWPv\n"
          ]
        }
      ]
    },
    {
      "cell_type": "code",
      "source": [
        "  num=r.randint(6,8)\n",
        "  passwd=\"\".join(r.sample(s.ascii_letters,num))\n",
        "  print (\"Selected string = \",passwd)\n",
        "l=[]\n",
        "for i in range(600,800):\n",
        "   flag=0\n",
        "   for j in range( 2 , i//2+1):\n",
        "     if i%j==0:\n",
        "       flag=1\n",
        "       break\n",
        "\n",
        "   if flag==0:\n",
        "    l.append(i)\n",
        "print (\"prime numbers between 600 and 800 = \",l)\n",
        "def write_primes_to_file(start, end, filename):\n",
        "\n",
        "    with open(filename, 'w') as file:\n",
        "        for num in range(start, end + 1):\n",
        "\n",
        "                file.write(str(l) + '\\n')\n"
      ],
      "metadata": {
        "colab": {
          "base_uri": "https://localhost:8080/"
        },
        "id": "yyY8pW6F2LTq",
        "outputId": "e287781f-8e58-46ba-bed3-73706d978cbe"
      },
      "execution_count": null,
      "outputs": [
        {
          "output_type": "stream",
          "name": "stdout",
          "text": [
            "Selected string =  IgLkcjD\n",
            "prime numbers between 600 and 800 =  [601, 607, 613, 617, 619, 631, 641, 643, 647, 653, 659, 661, 673, 677, 683, 691, 701, 709, 719, 727, 733, 739, 743, 751, 757, 761, 769, 773, 787, 797]\n"
          ]
        }
      ]
    },
    {
      "cell_type": "code",
      "source": [],
      "metadata": {
        "id": "W4JEY_kB5iZN"
      },
      "execution_count": null,
      "outputs": []
    },
    {
      "cell_type": "code",
      "source": [
        "def write_strings_to_file(strings, filename):\n",
        "    \"\"\"Write a list of strings to a file.\"\"\"\n",
        "    with open(filename, 'w') as file:\n",
        "        for string in strings:\n",
        "            file.write(string + '\\n')\n"
      ],
      "metadata": {
        "id": "-cr1BjfB02Go"
      },
      "execution_count": null,
      "outputs": []
    },
    {
      "cell_type": "code",
      "source": [
        "#Q11. WAP to calculate the time taken by a program\n",
        "import time as t\n",
        "t1=t.time()\n",
        "\n",
        "l=[]\n",
        "for i in range(600,800):\n",
        "   flag=0\n",
        "   for j in range( 2 , i//2+1):\n",
        "     if i%j==0:\n",
        "       flag=1\n",
        "       break\n",
        "\n",
        "   if flag==0:\n",
        "    l.append(i)\n",
        "print (\"prime numbers between 600 and 800 = \",l)\n",
        "t2=t.time()\n",
        "t3=t2-t1\n",
        "print(\"time taken =\",t3)\n"
      ],
      "metadata": {
        "colab": {
          "base_uri": "https://localhost:8080/"
        },
        "id": "kVpuS4GB5j0Q",
        "outputId": "0e315c97-a063-4072-b98c-a2786ecc1fdd"
      },
      "execution_count": null,
      "outputs": [
        {
          "output_type": "stream",
          "name": "stdout",
          "text": [
            "prime numbers between 600 and 800 =  [601, 607, 613, 617, 619, 631, 641, 643, 647, 653, 659, 661, 673, 677, 683, 691, 701, 709, 719, 727, 733, 739, 743, 751, 757, 761, 769, 773, 787, 797]\n",
            "time taken = 0.002693653106689453\n"
          ]
        }
      ]
    }
  ]
}